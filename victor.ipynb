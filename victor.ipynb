{
 "cells": [
  {
   "cell_type": "code",
   "execution_count": 1,
   "metadata": {},
   "outputs": [],
   "source": [
    "import sys"
   ]
  },
  {
   "cell_type": "code",
   "execution_count": 33,
   "metadata": {},
   "outputs": [],
   "source": [
    "# See video course https://icfpcontest2020.github.io/#/post/2054\n",
    "class Expr:\n",
    "    Evaluated = None\n",
    "\n",
    "    def to_str(self):\n",
    "      return str(self)\n",
    "\n",
    "    def __repr__(self, *args, **krwargs):\n",
    "      return self.to_str()\n",
    "\n",
    "\n",
    "class Atom(Expr):\n",
    "    Name = None\n",
    "    def __init__(self, name):\n",
    "        super().__init__()\n",
    "        self.Name = name\n",
    "\n",
    "    def to_str(self, *args, **krwargs):\n",
    "        return str(self.Name)\n",
    "\n",
    "class Ap(Expr):\n",
    "    Fun = None\n",
    "    Arg = None\n",
    "    def __init__(self, fun, arg):\n",
    "        super().__init__()\n",
    "        self.Fun = fun\n",
    "        self.Arg = arg\n",
    "\n",
    "    def to_str(self, max_depth=10, depth=None, *args, **krwargs):\n",
    "        if max_depth is not None:\n",
    "            depth = depth if depth is not None else 0\n",
    "            if depth > max_depth:\n",
    "                return f'ap ... ...'\n",
    "            return f'ap {self.Fun.to_str(max_depth, depth+1)} {self.Arg.to_str(max_depth, depth+1)}'\n",
    "        else:\n",
    "            return f'ap {self.Fun.to_str(None)} {self.Arg.to_str(None)}'\n",
    "\n",
    "    def to_padded_str(self, max_depth=10, depth=None, pad_with=' ', *args, **krwargs):\n",
    "        depth = 0 if depth is None else depth\n",
    "        if max_depth and depth > max_depth:\n",
    "            return f'ap ... ...'\n",
    "        child_padding = pad_with*(depth+1)\n",
    "        fun_repr = self.Fun.to_padded_str(max_depth, depth+1, pad_with) if type(self.Fun) == Ap else str(self.Fun)\n",
    "        arg_repr = self.Arg.to_padded_str(max_depth, depth+1, pad_with) if type(self.Arg) == Ap else str(self.Arg)\n",
    "        return f'ap\\n{child_padding}{fun_repr}\\n{child_padding}{arg_repr}'\n",
    "\n",
    "\n",
    "class Vect:\n",
    "    X = None\n",
    "    Y = None\n",
    "    def __init__(self, x, y):\n",
    "        self.X = x\n",
    "        self.Y = y\n",
    "\n",
    "cons = Atom(\"cons\")\n",
    "t = Atom(\"t\")\n",
    "f = Atom(\"f\")\n",
    "nil = Atom(\"nil\")"
   ]
  },
  {
   "cell_type": "code",
   "execution_count": 34,
   "metadata": {},
   "outputs": [],
   "source": [
    "def read_source(filename='galaxy.txt'):\n",
    "  with open(filename, 'r') as galaxy_txt:\n",
    "    program = galaxy_txt.read()\n",
    "    lines = program.split('\\n')\n",
    "    non_empty_lines = filter(lambda l: len(l), lines)\n",
    "    return non_empty_lines"
   ]
  },
  {
   "cell_type": "code",
   "execution_count": 35,
   "metadata": {},
   "outputs": [],
   "source": [
    "def parse_program(code_lines):\n",
    "  defs = {}\n",
    "  for ln in code_lines:\n",
    "    [token, body] = [chunk.strip() for chunk in ln.split('=')]\n",
    "    lexems = body.split()\n",
    "    defs[token] = lexems\n",
    "  return defs\n",
    "\n",
    "class TokenStream:\n",
    "  def __init__(self, vec):\n",
    "    self.vec = vec\n",
    "    self.index = 0\n",
    "\n",
    "  def read(self):\n",
    "    res = self.vec[self.index]\n",
    "    self.index += 1\n",
    "    return res\n",
    "\n",
    "def parse_next_expr(s) -> Expr :\n",
    "  token = s.read()\n",
    "  if token == \"ap\":\n",
    "    fun = parse_next_expr(s)\n",
    "    arg = parse_next_expr(s)\n",
    "    return Ap(fun, arg)\n",
    "  else:\n",
    "    return Atom(token)\n",
    "\n",
    "def parse_from_tokens(tokens) -> Expr :\n",
    "  stream = TokenStream(tokens)\n",
    "  expr = parse_next_expr(stream)\n",
    "  return expr"
   ]
  },
  {
   "cell_type": "code",
   "execution_count": 36,
   "metadata": {},
   "outputs": [],
   "source": [
    "defs = parse_program(read_source())"
   ]
  },
  {
   "cell_type": "code",
   "execution_count": 37,
   "metadata": {},
   "outputs": [],
   "source": [
    "functions = { name: parse_from_tokens(tokens) for name, tokens in defs.items() }"
   ]
  },
  {
   "cell_type": "code",
   "execution_count": 38,
   "metadata": {},
   "outputs": [],
   "source": [
    "state: Expr = nil\n",
    "vector = Vect(0, 0)"
   ]
  },
  {
   "cell_type": "code",
   "execution_count": 39,
   "metadata": {},
   "outputs": [],
   "source": [
    "click = Ap(Ap(cons, Atom(f'{vector.X}')), Atom(f'{vector.Y}'))"
   ]
  },
  {
   "cell_type": "code",
   "execution_count": 40,
   "metadata": {},
   "outputs": [],
   "source": [
    "def eval(expr: Expr) -> Expr :\n",
    "    if expr.Evaluated:\n",
    "        return expr.Evaluated\n",
    "    initialExpr = expr\n",
    "    while True:\n",
    "        result = tryEval(expr)\n",
    "        if (result == expr):\n",
    "            initialExpr.Evaluated = result\n",
    "            return result\n",
    "        expr = result\n",
    "\n",
    "def tryEval(expr: Expr) -> Expr:\n",
    "    if expr.Evaluated:\n",
    "        return expr.Evaluated\n",
    "    if (isinstance(expr, Atom) and expr.Name in functions):\n",
    "        return functions[expr.Name]\n",
    "    if (isinstance(expr,Ap)):\n",
    "        fun = eval(expr.Fun)\n",
    "        x = expr.Arg\n",
    "        if (isinstance(fun, Atom)):\n",
    "            if (fun.Name == \"neg\"): return Atom(-asNum(eval(x)))\n",
    "            if (fun.Name == \"i\"): return x\n",
    "            if (fun.Name == \"nil\"): return t\n",
    "            if (fun.Name == \"isnil\"): return Ap(x, Ap(t, Ap(t, f)))\n",
    "            if (fun.Name == \"car\"): return Ap(x, t)\n",
    "            if (fun.Name == \"cdr\"): return Ap(x, f)\n",
    "        if (isinstance(fun, Ap)):\n",
    "            fun2 = eval(fun.Fun)\n",
    "            y = fun.Arg\n",
    "            if (isinstance(fun2,Atom)):\n",
    "                if (fun2.Name == \"t\"): return y\n",
    "                if (fun2.Name == \"f\"): return x\n",
    "                if (fun2.Name == \"add\"): return Atom(asNum(eval(x)) + asNum(eval(y)))\n",
    "                if (fun2.Name == \"mul\"): return Atom(asNum(eval(x)) * asNum(eval(y)))\n",
    "                if (fun2.Name == \"div\"): return Atom(asNum(eval(y)) / asNum(eval(x)))\n",
    "                if (fun2.Name == \"lt\"): return t if asNum(eval(y)) < asNum(eval(x)) else f\n",
    "                if (fun2.Name == \"eq\"): return t if asNum(eval(x)) == asNum(eval(y)) else f\n",
    "                if (fun2.Name == \"cons\"): return evalCons(y, x)\n",
    "            if (isinstance(fun2,Ap)):\n",
    "                fun3 = eval(fun2.Fun)\n",
    "                z = fun2.Arg\n",
    "                if (isinstance(fun3,Atom)):\n",
    "                    if (fun3.Name == \"s\"): return Ap(Ap(z, x), Ap(y, x))\n",
    "                    if (fun3.Name == \"c\"): return Ap(Ap(z, x), y)\n",
    "                    if (fun3.Name == \"b\"): return Ap(z, Ap(y, x))\n",
    "                    if (fun3.Name == \"cons\"): return Ap(Ap(x, z), y)\n",
    "    return expr\n",
    "\n",
    "\n",
    "def evalCons(a: Expr, b: Expr) -> Expr:\n",
    "    res = Ap(Ap(cons, eval(a)), eval(b))\n",
    "    res.Evaluated = res\n",
    "    return res\n",
    "\n",
    "def asNum(n: Expr) -> int:\n",
    "    if (isinstance(n,Atom)):\n",
    "        return int(n.Name)\n",
    "    raise TypeError(\"not a number\")\n"
   ]
  },
  {
   "cell_type": "code",
   "execution_count": 42,
   "metadata": {},
   "outputs": [
    {
     "name": "stdout",
     "output_type": "stream",
     "text": [
      "ap ... ...\n"
     ]
    }
   ],
   "source": [
    "# Run the galaxy!\n",
    "galaxy = Ap(Ap(Atom(\"galaxy\"), state), click)\n",
    "print(eval(galaxy))"
   ]
  },
  {
   "cell_type": "code",
   "execution_count": null,
   "metadata": {},
   "outputs": [],
   "source": []
  }
 ],
 "metadata": {
  "kernelspec": {
   "display_name": "Python 3",
   "language": "python",
   "name": "python3"
  },
  "language_info": {
   "codemirror_mode": {
    "name": "ipython",
    "version": 3
   },
   "file_extension": ".py",
   "mimetype": "text/x-python",
   "name": "python",
   "nbconvert_exporter": "python",
   "pygments_lexer": "ipython3",
   "version": "3.8.3"
  }
 },
 "nbformat": 4,
 "nbformat_minor": 2
}
