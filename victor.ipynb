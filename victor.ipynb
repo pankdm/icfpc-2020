{
 "cells": [
  {
   "cell_type": "code",
   "execution_count": 1,
   "metadata": {},
   "outputs": [],
   "source": [
    "import sys"
   ]
  },
  {
   "cell_type": "code",
   "execution_count": 2,
   "metadata": {},
   "outputs": [],
   "source": [
    "# See video course https://icfpcontest2020.github.io/#/post/2054\n",
    "class Expr:\n",
    "    Evaluated = None\n",
    "\n",
    "    def to_str(self):\n",
    "      return str(self)\n",
    "\n",
    "    def __repr__(self, *args, **krwargs):\n",
    "      return self.to_str()\n",
    "\n",
    "\n",
    "class Atom(Expr):\n",
    "    Name = None\n",
    "    def __init__(self, name):\n",
    "        super().__init__()\n",
    "        self.Name = name\n",
    "\n",
    "    def to_str(self, *args, **krwargs):\n",
    "        return str(self.Name)\n",
    "\n",
    "class Ap(Expr):\n",
    "    Fun = None\n",
    "    Arg = None\n",
    "    def __init__(self, fun, arg):\n",
    "        super().__init__()\n",
    "        self.Fun = fun\n",
    "        self.Arg = arg\n",
    "\n",
    "    def to_str(self, max_depth=5, *args, **krwargs):\n",
    "        if max_depth < 0:\n",
    "            return f'ap ... ...'\n",
    "        return f'ap {self.Fun.to_str(max_depth-1)} {self.Arg.to_str(max_depth-1)}'\n",
    "\n",
    "\n",
    "class Vect:\n",
    "    X = None\n",
    "    Y = None\n",
    "    def __init__(self, x, y):\n",
    "        self.X = x\n",
    "        self.Y = y\n",
    "\n",
    "cons = Atom(\"cons\")\n",
    "t = Atom(\"t\")\n",
    "f = Atom(\"f\")\n",
    "nil = Atom(\"nil\")"
   ]
  },
  {
   "cell_type": "code",
   "execution_count": 3,
   "metadata": {},
   "outputs": [],
   "source": [
    "def read_source(filename='galaxy.txt'):\n",
    "  with open(filename, 'r') as galaxy_txt:\n",
    "    program = galaxy_txt.read()\n",
    "    lines = program.split('\\n')\n",
    "    non_empty_lines = filter(lambda l: len(l), lines)\n",
    "    return non_empty_lines"
   ]
  },
  {
   "cell_type": "code",
   "execution_count": 4,
   "metadata": {},
   "outputs": [],
   "source": [
    "def parse_program(code_lines):\n",
    "  defs = {}\n",
    "  for ln in code_lines:\n",
    "    [token, body] = [chunk.strip() for chunk in ln.split('=')]\n",
    "    lexems = body.split()\n",
    "    defs[token] = lexems\n",
    "  return defs\n",
    "\n",
    "class TokenStream:\n",
    "  def __init__(self, vec):\n",
    "    self.vec = vec\n",
    "    self.index = 0\n",
    "\n",
    "  def read(self):\n",
    "    res = self.vec[self.index]\n",
    "    self.index += 1\n",
    "    return res\n",
    "\n",
    "def parse_next_expr(s) -> Expr :\n",
    "  token = s.read()\n",
    "  if token == \"ap\":\n",
    "    fun = parse_next_expr(s)\n",
    "    arg = parse_next_expr(s)\n",
    "    return Ap(fun, arg)\n",
    "  else:\n",
    "    return Atom(token)\n",
    "\n",
    "def parse_from_tokens(tokens) -> Expr :\n",
    "  stream = TokenStream(tokens)\n",
    "  expr = parse_next_expr(stream)\n",
    "  return expr"
   ]
  },
  {
   "cell_type": "code",
   "execution_count": 5,
   "metadata": {},
   "outputs": [],
   "source": [
    "defs = parse_program(read_source())"
   ]
  },
  {
   "cell_type": "code",
   "execution_count": 6,
   "metadata": {},
   "outputs": [],
   "source": [
    "functions = { name: parse_from_tokens(tokens) for name, tokens in defs.items() }"
   ]
  },
  {
   "cell_type": "code",
   "execution_count": 7,
   "metadata": {},
   "outputs": [],
   "source": [
    "state: Expr = nil\n",
    "vector = Vect(0, 0)"
   ]
  },
  {
   "cell_type": "code",
   "execution_count": 8,
   "metadata": {},
   "outputs": [],
   "source": [
    "click = Ap(Ap(cons, Atom(f'{vector.X}')), Atom(f'{vector.Y}'))"
   ]
  },
  {
   "cell_type": "code",
   "execution_count": 9,
   "metadata": {},
   "outputs": [],
   "source": [
    "def eval(expr: Expr) -> Expr :\n",
    "    if expr.Evaluated:\n",
    "        return expr.Evaluated\n",
    "    initialExpr = expr\n",
    "    while True:\n",
    "        result = tryEval(expr)\n",
    "        if (result == expr):\n",
    "            initialExpr.Evaluated = result\n",
    "            return result\n",
    "        expr = result\n",
    "\n",
    "def tryEval(expr: Expr) -> Expr:\n",
    "    if expr.Evaluated:\n",
    "        return expr.Evaluated\n",
    "    if (isinstance(expr, Atom) and expr.Name in functions):\n",
    "        return functions[expr.Name]\n",
    "    if (isinstance(expr,Ap)):\n",
    "        fun = eval(expr.Fun)\n",
    "        x = expr.Arg\n",
    "        if (isinstance(fun, Atom)):\n",
    "            if (fun.Name == \"neg\"): return Atom(-asNum(eval(x)))\n",
    "            if (fun.Name == \"i\"): return x\n",
    "            if (fun.Name == \"nil\"): return t\n",
    "            if (fun.Name == \"isnil\"): return Ap(x, Ap(t, Ap(t, f)))\n",
    "            if (fun.Name == \"car\"): return Ap(x, t)\n",
    "            if (fun.Name == \"cdr\"): return Ap(x, f)\n",
    "        if (isinstance(fun, Ap)):\n",
    "            fun2 = eval(fun.Fun)\n",
    "            y = fun.Arg\n",
    "            if (isinstance(fun2,Atom)):\n",
    "                if (fun2.Name == \"t\"): return y\n",
    "                if (fun2.Name == \"f\"): return x\n",
    "                if (fun2.Name == \"add\"): return Atom(asNum(eval(x)) + asNum(eval(y)))\n",
    "                if (fun2.Name == \"mul\"): return Atom(asNum(eval(x)) * asNum(eval(y)))\n",
    "                if (fun2.Name == \"div\"): return Atom(asNum(eval(y)) / asNum(eval(x)))\n",
    "                if (fun2.Name == \"lt\"): return t if asNum(eval(y)) < asNum(eval(x)) else f\n",
    "                if (fun2.Name == \"eq\"): return t if asNum(eval(x)) == asNum(eval(y)) else f\n",
    "                if (fun2.Name == \"cons\"): return evalCons(y, x)\n",
    "            if (isinstance(fun2,Ap)):\n",
    "                fun3 = eval(fun2.Fun)\n",
    "                z = fun2.Arg\n",
    "                if (isinstance(fun3,Atom)):\n",
    "                    if (fun3.Name == \"s\"): return Ap(Ap(z, x), Ap(y, x))\n",
    "                    if (fun3.Name == \"c\"): return Ap(Ap(z, x), y)\n",
    "                    if (fun3.Name == \"b\"): return Ap(z, Ap(y, x))\n",
    "                    if (fun3.Name == \"cons\"): return Ap(Ap(x, z), y)\n",
    "    return expr\n",
    "\n",
    "\n",
    "def evalCons(a: Expr, b: Expr) -> Expr:\n",
    "    res = Ap(Ap(cons, eval(a)), eval(b))\n",
    "    res.Evaluated = res\n",
    "    return res\n",
    "\n",
    "def asNum(n: Expr) -> int:\n",
    "    if (isinstance(n,Atom)):\n",
    "        return int(n.Name)\n",
    "    raise TypeError(\"not a number\")\n"
   ]
  },
  {
   "cell_type": "code",
   "execution_count": 14,
   "metadata": {},
   "outputs": [
    {
     "ename": "TypeError",
     "evalue": "'<' not supported between instances of 'NoneType' and 'int'",
     "output_type": "error",
     "traceback": [
      "\u001b[0;31m---------------------------------------------------------------------------\u001b[0m",
      "\u001b[0;31mTypeError\u001b[0m                                 Traceback (most recent call last)",
      "\u001b[0;32m<ipython-input-14-340a42d0d599>\u001b[0m in \u001b[0;36m<module>\u001b[0;34m\u001b[0m\n\u001b[1;32m      1\u001b[0m \u001b[0;31m# Run the galaxy\u001b[0m\u001b[0;34m\u001b[0m\u001b[0;34m\u001b[0m\u001b[0;34m\u001b[0m\u001b[0m\n\u001b[1;32m      2\u001b[0m \u001b[0mgalaxy\u001b[0m \u001b[0;34m=\u001b[0m \u001b[0mAp\u001b[0m\u001b[0;34m(\u001b[0m\u001b[0mAp\u001b[0m\u001b[0;34m(\u001b[0m\u001b[0mAtom\u001b[0m\u001b[0;34m(\u001b[0m\u001b[0;34m\"galaxy\"\u001b[0m\u001b[0;34m)\u001b[0m\u001b[0;34m,\u001b[0m \u001b[0mstate\u001b[0m\u001b[0;34m)\u001b[0m\u001b[0;34m,\u001b[0m \u001b[0mclick\u001b[0m\u001b[0;34m)\u001b[0m\u001b[0;34m\u001b[0m\u001b[0;34m\u001b[0m\u001b[0m\n\u001b[0;32m----> 3\u001b[0;31m \u001b[0meval\u001b[0m\u001b[0;34m(\u001b[0m\u001b[0mgalaxy\u001b[0m\u001b[0;34m)\u001b[0m\u001b[0;34m.\u001b[0m\u001b[0mto_str\u001b[0m\u001b[0;34m(\u001b[0m\u001b[0;32mNone\u001b[0m\u001b[0;34m)\u001b[0m\u001b[0;34m\u001b[0m\u001b[0;34m\u001b[0m\u001b[0m\n\u001b[0m",
      "\u001b[0;32m<ipython-input-2-d3c3bffcb28a>\u001b[0m in \u001b[0;36mto_str\u001b[0;34m(self, max_depth, *args, **krwargs)\u001b[0m\n\u001b[1;32m     28\u001b[0m \u001b[0;34m\u001b[0m\u001b[0m\n\u001b[1;32m     29\u001b[0m     \u001b[0;32mdef\u001b[0m \u001b[0mto_str\u001b[0m\u001b[0;34m(\u001b[0m\u001b[0mself\u001b[0m\u001b[0;34m,\u001b[0m \u001b[0mmax_depth\u001b[0m\u001b[0;34m=\u001b[0m\u001b[0;36m5\u001b[0m\u001b[0;34m,\u001b[0m \u001b[0;34m*\u001b[0m\u001b[0margs\u001b[0m\u001b[0;34m,\u001b[0m \u001b[0;34m**\u001b[0m\u001b[0mkrwargs\u001b[0m\u001b[0;34m)\u001b[0m\u001b[0;34m:\u001b[0m\u001b[0;34m\u001b[0m\u001b[0;34m\u001b[0m\u001b[0m\n\u001b[0;32m---> 30\u001b[0;31m         \u001b[0;32mif\u001b[0m \u001b[0mmax_depth\u001b[0m \u001b[0;34m<\u001b[0m \u001b[0;36m0\u001b[0m\u001b[0;34m:\u001b[0m\u001b[0;34m\u001b[0m\u001b[0;34m\u001b[0m\u001b[0m\n\u001b[0m\u001b[1;32m     31\u001b[0m             \u001b[0;32mreturn\u001b[0m \u001b[0;34mf'ap ... ...'\u001b[0m\u001b[0;34m\u001b[0m\u001b[0;34m\u001b[0m\u001b[0m\n\u001b[1;32m     32\u001b[0m         \u001b[0;32mreturn\u001b[0m \u001b[0;34mf'ap {self.Fun.to_str(max_depth-1)} {self.Arg.to_str(max_depth-1)}'\u001b[0m\u001b[0;34m\u001b[0m\u001b[0;34m\u001b[0m\u001b[0m\n",
      "\u001b[0;31mTypeError\u001b[0m: '<' not supported between instances of 'NoneType' and 'int'"
     ]
    }
   ],
   "source": [
    "# Run the galaxy\n",
    "galaxy = Ap(Ap(Atom(\"galaxy\"), state), click)\n",
    "eval(galaxy).to_str(None)"
   ]
  },
  {
   "cell_type": "code",
   "execution_count": null,
   "metadata": {},
   "outputs": [],
   "source": []
  }
 ],
 "metadata": {
  "kernelspec": {
   "display_name": "Python 3",
   "language": "python",
   "name": "python3"
  },
  "language_info": {
   "codemirror_mode": {
    "name": "ipython",
    "version": 3
   },
   "file_extension": ".py",
   "mimetype": "text/x-python",
   "name": "python",
   "nbconvert_exporter": "python",
   "pygments_lexer": "ipython3",
   "version": "3.8.3"
  }
 },
 "nbformat": 4,
 "nbformat_minor": 2
}
