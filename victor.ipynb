{
 "cells": [
  {
   "cell_type": "code",
   "execution_count": 1,
   "metadata": {},
   "outputs": [],
   "source": [
    "from src.decode import read_source, read_test_source, parse_program, dump_file, parse_program_with_types, parse_program_with_ast\n",
    "from src.funcs import *\n",
    "from src.analyze import sorted_defs, get_unique_fns, get_unique_refs, get_all_unique_fns, is_token, inline, get_trivial_and_nontrivial_defs"
   ]
  },
  {
   "cell_type": "code",
   "execution_count": 2,
   "metadata": {},
   "outputs": [],
   "source": [
    "defs = parse_program_with_types(read_source())"
   ]
  },
  {
   "cell_type": "code",
   "execution_count": 3,
   "metadata": {},
   "outputs": [],
   "source": [
    "test_defs = parse_program_with_types(read_test_source())"
   ]
  },
  {
   "cell_type": "code",
   "execution_count": 4,
   "metadata": {
    "scrolled": true
   },
   "outputs": [
    {
     "data": {
      "text/plain": [
       "{':1': [1],\n",
       " ':2': [2],\n",
       " ':3': [3],\n",
       " ':4': [<INC()>],\n",
       " ':5': [<ADD()>],\n",
       " ':6': [AP, <ADD()>, 2],\n",
       " ':7': [AP, AP, <CONS()>, 4, 5],\n",
       " ':8': [AP, AP, ref::5, AP, <CAR()>, ref::7, 3],\n",
       " 'galaxy': [ref::8]}"
      ]
     },
     "execution_count": 4,
     "metadata": {},
     "output_type": "execute_result"
    }
   ],
   "source": [
    "test_defs"
   ]
  },
  {
   "cell_type": "code",
   "execution_count": 25,
   "metadata": {},
   "outputs": [
    {
     "data": {
      "text/plain": [
       "{':1': 1,\n",
       " ':2': 2,\n",
       " ':3': 3,\n",
       " ':4': <INC()>,\n",
       " ':5': <ADD()>,\n",
       " ':6': (AP <ADD()> 2),\n",
       " ':7': (AP (AP <CONS()> 4) 5),\n",
       " ':8': (AP (AP ref::5 (AP <CAR()> ref::7)) 3),\n",
       " 'galaxy': ref::8}"
      ]
     },
     "execution_count": 25,
     "metadata": {},
     "output_type": "execute_result"
    }
   ],
   "source": [
    "test_defs_ast = parse_program_with_ast(read_test_source())\n",
    "test_defs_ast"
   ]
  },
  {
   "cell_type": "code",
   "execution_count": 26,
   "metadata": {},
   "outputs": [
    {
     "data": {
      "text/plain": [
       "(AP (AP ref::5 (AP <CAR()> ref::7)) 3)"
      ]
     },
     "execution_count": 26,
     "metadata": {},
     "output_type": "execute_result"
    }
   ],
   "source": [
    "test_defs_ast[':8']"
   ]
  },
  {
   "cell_type": "code",
   "execution_count": 27,
   "metadata": {},
   "outputs": [
    {
     "data": {
      "text/plain": [
       "7"
      ]
     },
     "execution_count": 27,
     "metadata": {},
     "output_type": "execute_result"
    }
   ],
   "source": [
    "AP.calc(test_defs_ast['galaxy'])"
   ]
  },
  {
   "cell_type": "code",
   "execution_count": 32,
   "metadata": {},
   "outputs": [
    {
     "name": "stdout",
     "output_type": "stream",
     "text": [
      "Tree complete: True\n",
      "Tree: (AP (AP <ADD()> (AP <INC()> (AP <INC()> (AP <INC()> 2)))) 4)\n"
     ]
    },
    {
     "data": {
      "text/plain": [
       "9"
      ]
     },
     "execution_count": 32,
     "metadata": {},
     "output_type": "execute_result"
    }
   ],
   "source": [
    "tree = AP()\n",
    "tree.add_edge(AP())\n",
    "tree.add_edge(ADD)\n",
    "tree.add_edge(AP())\n",
    "tree.add_edge(INC)\n",
    "tree.add_edge(AP())\n",
    "tree.add_edge(INC)\n",
    "tree.add_edge(AP())\n",
    "tree.add_edge(INC)\n",
    "tree.add_edge(2)\n",
    "tree.add_edge(4)\n",
    "print(f'Tree complete: {tree.is_complete()}')\n",
    "print(f'Tree: {tree}')\n",
    "tree.compute()"
   ]
  },
  {
   "cell_type": "code",
   "execution_count": 33,
   "metadata": {},
   "outputs": [
    {
     "data": {
      "text/plain": [
       "True"
      ]
     },
     "execution_count": 33,
     "metadata": {},
     "output_type": "execute_result"
    }
   ],
   "source": [
    "AP(AP(CONS, 1), 2) == AP(AP(CONS, 1), 2)"
   ]
  },
  {
   "cell_type": "code",
   "execution_count": 34,
   "metadata": {},
   "outputs": [
    {
     "data": {
      "text/plain": [
       "2"
      ]
     },
     "execution_count": 34,
     "metadata": {},
     "output_type": "execute_result"
    }
   ],
   "source": [
    "AP(CDR, AP(AP(CONS, 1), 2).compute()).compute()"
   ]
  },
  {
   "cell_type": "code",
   "execution_count": 36,
   "metadata": {
    "scrolled": true
   },
   "outputs": [],
   "source": [
    "defs_ast = parse_program_with_ast(read_source())"
   ]
  },
  {
   "cell_type": "code",
   "execution_count": null,
   "metadata": {},
   "outputs": [],
   "source": [
    "defs_ast[':1029']"
   ]
  }
 ],
 "metadata": {
  "kernelspec": {
   "display_name": "Python 3",
   "language": "python",
   "name": "python3"
  },
  "language_info": {
   "codemirror_mode": {
    "name": "ipython",
    "version": 3
   },
   "file_extension": ".py",
   "mimetype": "text/x-python",
   "name": "python",
   "nbconvert_exporter": "python",
   "pygments_lexer": "ipython3",
   "version": "3.8.3"
  }
 },
 "nbformat": 4,
 "nbformat_minor": 2
}
