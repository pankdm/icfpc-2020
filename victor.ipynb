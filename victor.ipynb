{
 "cells": [
  {
   "cell_type": "code",
   "execution_count": 1,
   "metadata": {},
   "outputs": [],
   "source": [
    "from src.decode import read_source, parse_program, dump_file\n",
    "from src.funcs import *\n",
    "from src.analyze import sorted_defs, get_unique_fns, get_unique_refs, get_all_unique_fns, is_token, inline, get_trivial_and_nontrivial_defs"
   ]
  },
  {
   "cell_type": "code",
   "execution_count": 2,
   "metadata": {},
   "outputs": [],
   "source": [
    "defs = parse_program(read_source())"
   ]
  },
  {
   "cell_type": "code",
   "execution_count": 3,
   "metadata": {},
   "outputs": [
    {
     "data": {
      "text/plain": [
       "4"
      ]
     },
     "execution_count": 3,
     "metadata": {},
     "output_type": "execute_result"
    }
   ],
   "source": [
    "AP(CAR, AP(CDR, AP(CDR, AP(CDR, AP(AP(CONS, 1), AP(AP(CONS, 2), AP(AP(CONS, 3), AP(AP(CONS, 4), NIL))))))))"
   ]
  },
  {
   "cell_type": "code",
   "execution_count": 4,
   "metadata": {},
   "outputs": [
    {
     "data": {
      "text/plain": [
       "{'add',\n",
       " 'ap',\n",
       " 'b',\n",
       " 'c',\n",
       " 'car',\n",
       " 'cdr',\n",
       " 'cons',\n",
       " 'div',\n",
       " 'eq',\n",
       " 'i',\n",
       " 'isnil',\n",
       " 'lt',\n",
       " 'mul',\n",
       " 'neg',\n",
       " 'nil',\n",
       " 's',\n",
       " 't'}"
      ]
     },
     "execution_count": 4,
     "metadata": {},
     "output_type": "execute_result"
    }
   ],
   "source": [
    "get_all_unique_fns(defs)"
   ]
  },
  {
   "cell_type": "code",
   "execution_count": 5,
   "metadata": {},
   "outputs": [
    {
     "data": {
      "text/plain": [
       "{':1328', ':1336', ':1342'}"
      ]
     },
     "execution_count": 5,
     "metadata": {},
     "output_type": "execute_result"
    }
   ],
   "source": [
    "get_unique_refs(inline(defs, 'galaxy', 2))"
   ]
  },
  {
   "cell_type": "code",
   "execution_count": 8,
   "metadata": {},
   "outputs": [],
   "source": [
    "trivial_defs, nontrivial_defs = get_trivial_and_nontrivial_defs(defs, 2)\n",
    "with open('galaxy.inlined_2.txt', 'w') as output:\n",
    "    output.write('# Trivial defs: \\n')\n",
    "    output.write('\\n'.join([f\"{token} = {lexems}\" for token, lexems in trivial_defs]))\n",
    "    output.write('\\n\\n# Non-Trivial defs: \\n')\n",
    "    output.write('\\n'.join([f\"{token} = {lexems}\" for token, lexems in nontrivial_defs]))"
   ]
  },
  {
   "cell_type": "code",
   "execution_count": 9,
   "metadata": {},
   "outputs": [],
   "source": [
    "trivial_defs, nontrivial_defs = get_trivial_and_nontrivial_defs(defs, 3)\n",
    "with open('galaxy.inlined_3.txt', 'w') as output:\n",
    "    output.write('# Trivial defs: \\n')\n",
    "    output.write('\\n'.join([f\"{token} = {lexems}\" for token, lexems in trivial_defs]))\n",
    "    output.write('\\n\\n# Non-Trivial defs: \\n')\n",
    "    output.write('\\n'.join([f\"{token} = {lexems}\" for token, lexems in nontrivial_defs]))"
   ]
  },
  {
   "cell_type": "code",
   "execution_count": 7,
   "metadata": {},
   "outputs": [],
   "source": [
    "trivial_defs, nontrivial_defs = get_trivial_and_nontrivial_defs(defs, 10)\n",
    "with open('galaxy.inlined_10.txt', 'w') as output:\n",
    "    output.write('# Trivial defs: \\n')\n",
    "    output.write('\\n'.join([f\"{token} = {lexems}\" for token, lexems in trivial_defs]))\n",
    "    output.write('\\n\\n# Non-Trivial defs: \\n')\n",
    "    output.write('\\n'.join([f\"{token} = {lexems}\" for token, lexems in nontrivial_defs]))"
   ]
  },
  {
   "cell_type": "code",
   "execution_count": null,
   "metadata": {},
   "outputs": [],
   "source": []
  }
 ],
 "metadata": {
  "kernelspec": {
   "display_name": "Python 3",
   "language": "python",
   "name": "python3"
  },
  "language_info": {
   "codemirror_mode": {
    "name": "ipython",
    "version": 3
   },
   "file_extension": ".py",
   "mimetype": "text/x-python",
   "name": "python",
   "nbconvert_exporter": "python",
   "pygments_lexer": "ipython3",
   "version": "3.8.3"
  }
 },
 "nbformat": 4,
 "nbformat_minor": 2
}
